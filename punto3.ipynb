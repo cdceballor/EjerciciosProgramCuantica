import qiskit as qk
from qiskit.visualization import plot_histogram

#Simulator
simulator = qk.Aer.get_backend('qasm_simulator')

# Creating Qubits
q = qk.QuantumRegister(2)

# Creating Classical Bits
c = qk.ClassicalRegister(2)

/#create circuits
circuit = qk.QuantumCircuit(q, c)

#sumador
circuit.cx(q[0], q[1])

# Measuring the Qubits
circuit.measure(q, c)

# Execute the circuit on the qasm simulator
job = qk.execute(circuit, simulator, shots=1000)

# Grab results from the job
result = job.result()

# Returns counts
counts = result.get_counts(circuit)
print("\nTotal for the 1 circuit:",counts)

# Plot a histogram
#plot_histogram(counts)

#Draw circuits
circuit.draw()