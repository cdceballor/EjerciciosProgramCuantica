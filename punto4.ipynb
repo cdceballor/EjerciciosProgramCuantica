{
 "cells": [
  {
   "cell_type": "code",
   "execution_count": 11,
   "metadata": {},
   "outputs": [],
   "source": [
    "import qiskit as qk\n",
    "from qiskit.visualization import plot_histogram\n",
    "simulator = qk.Aer.get_backend('qasm_simulator')\n",
    "simulator2 = qk.Aer.get_backend('qasm_simulator')\n",
    "\n",
    "# Creating Qubits\n",
    "q = qk.QuantumRegister(2)\n",
    "s = qk.QuantumRegister(2)\n",
    "\n",
    "# Creating Classical Bits\n",
    "c = qk.ClassicalRegister(2)\n",
    "d = qk.ClassicalRegister(2)\n",
    "\n",
    "/#create circuits\n",
    "circuit = qk.QuantumCircuit(q, c)\n",
    "circuit2 = qk.QuantumCircuit(s, d)\n"
   ]
  },
  {
   "cell_type": "code",
   "execution_count": 12,
   "metadata": {},
   "outputs": [
    {
     "data": {
      "text/plain": [
       "<qiskit.circuit.instructionset.InstructionSet at 0x7fd5ec8d5048>"
      ]
     },
     "execution_count": 12,
     "metadata": {},
     "output_type": "execute_result"
    }
   ],
   "source": [
    "circuit.h(q[1])"
   ]
  },
  {
   "cell_type": "code",
   "execution_count": 13,
   "metadata": {},
   "outputs": [
    {
     "data": {
      "text/plain": [
       "<qiskit.circuit.instructionset.InstructionSet at 0x7fd5ec8d5898>"
      ]
     },
     "execution_count": 13,
     "metadata": {},
     "output_type": "execute_result"
    }
   ],
   "source": [
    "circuit.cz(q[0], q[1])"
   ]
  },
  {
   "cell_type": "code",
   "execution_count": 14,
   "metadata": {},
   "outputs": [
    {
     "data": {
      "text/plain": [
       "<qiskit.circuit.instructionset.InstructionSet at 0x7fd5ec8d5860>"
      ]
     },
     "execution_count": 14,
     "metadata": {},
     "output_type": "execute_result"
    }
   ],
   "source": [
    "circuit.h(q[1])"
   ]
  },
  {
   "cell_type": "code",
   "execution_count": 15,
   "metadata": {},
   "outputs": [
    {
     "data": {
      "text/plain": [
       "<qiskit.circuit.instructionset.InstructionSet at 0x7fd5ec8d5080>"
      ]
     },
     "execution_count": 15,
     "metadata": {},
     "output_type": "execute_result"
    }
   ],
   "source": [
    "circuit.measure(q, c)"
   ]
  },
  {
   "cell_type": "code",
   "execution_count": 16,
   "metadata": {},
   "outputs": [
    {
     "name": "stdout",
     "output_type": "stream",
     "text": [
      "                   ┌─┐   \n",
      "q2_0: ──────■──────┤M├───\n",
      "      ┌───┐ │ ┌───┐└╥┘┌─┐\n",
      "q2_1: ┤ H ├─■─┤ H ├─╫─┤M├\n",
      "      └───┘   └───┘ ║ └╥┘\n",
      "c2_0: ══════════════╩══╬═\n",
      "                       ║ \n",
      "c2_1: ═════════════════╩═\n",
      "                         \n"
     ]
    }
   ],
   "source": [
    "print(circuit)"
   ]
  },
  {
   "cell_type": "code",
   "execution_count": 17,
   "metadata": {},
   "outputs": [],
   "source": [
    "job = qk.execute(circuit, simulator, shots=1000)\n",
    "job2 = qk.execute(circuit2, simulator2, shots=1000)"
   ]
  },
  {
   "cell_type": "code",
   "execution_count": 18,
   "metadata": {},
   "outputs": [],
   "source": [
    "# Grab results from the job\n",
    "result = job.result()\n",
    "result2 = job2.result()\n"
   ]
  },
  {
   "cell_type": "code",
   "execution_count": 19,
   "metadata": {},
   "outputs": [
    {
     "name": "stdout",
     "output_type": "stream",
     "text": [
      "\n",
      "Total for the 1 circuit: {'00': 1000}\n"
     ]
    }
   ],
   "source": [
    "counts = result.get_counts(circuit)\n",
    "print(\"\\nTotal for the 1 circuit:\",counts)"
   ]
  },
  {
   "cell_type": "code",
   "execution_count": 20,
   "metadata": {},
   "outputs": [
    {
     "name": "stdout",
     "output_type": "stream",
     "text": [
      "\n",
      "Total for the 2 circuit: {'00': 1000}\n"
     ]
    }
   ],
   "source": [
    "counts2 = result2.get_counts(circuit2)\n",
    "print(\"\\nTotal for the 2 circuit:\",counts2)"
   ]
  },
  {
   "cell_type": "code",
   "execution_count": 21,
   "metadata": {},
   "outputs": [
    {
     "name": "stdout",
     "output_type": "stream",
     "text": [
      "                   ┌─┐   \n",
      "q2_0: ──────■──────┤M├───\n",
      "      ┌───┐ │ ┌───┐└╥┘┌─┐\n",
      "q2_1: ┤ H ├─■─┤ H ├─╫─┤M├\n",
      "      └───┘   └───┘ ║ └╥┘\n",
      "c2_0: ══════════════╩══╬═\n",
      "                       ║ \n",
      "c2_1: ═════════════════╩═\n",
      "                         \n"
     ]
    },
    {
     "data": {
      "text/html": [
       "<pre style=\"word-wrap: normal;white-space: pre;background: #fff0;line-height: 1.1;font-family: &quot;Courier New&quot;,Courier,monospace\">      \n",
       "q3_0: \n",
       "      \n",
       "q3_1: \n",
       "      \n",
       "c3_0: \n",
       "      \n",
       "c3_1: \n",
       "      </pre>"
      ],
      "text/plain": [
       "      \n",
       "q3_0: \n",
       "      \n",
       "q3_1: \n",
       "      \n",
       "c3_0: \n",
       "      \n",
       "c3_1: \n",
       "      "
      ]
     },
     "execution_count": 21,
     "metadata": {},
     "output_type": "execute_result"
    }
   ],
   "source": [
    "print (circuit)\n",
    "circuit2.draw()"
   ]
  },
  {
   "cell_type": "code",
   "execution_count": null,
   "metadata": {},
   "outputs": [],
   "source": []
  }
 ],
 "metadata": {},
 "nbformat": 4,
 "nbformat_minor": 4
}
