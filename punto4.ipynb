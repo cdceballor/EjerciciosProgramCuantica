from qiskit import *
from qiskit.tools.visualization import plot_bloch_multivector
from qiskit.tools.visualization import plot_histogram

simulator = qk.Aer.get_backend('qasm_simulator')
simulator2 = qk.Aer.get_backend('qasm_simulator')

# Creating Qubits
q = qk.QuantumRegister(2)
s = qk.QuantumRegister(2)

# Creating Classical Bits
ircuit = qk.QuantumCircuit(q, c)
circuit2 = qk.QuantumCircuit(s, d)

/#create circuits
circuit = qk.QuantumCircuit(q, c)
circuit2 = qk.QuantumCircuit(s, d)

circuit.h(q[1])

circuit.cz(q[0], q[1])

circuit.h(q[1])

circuit.measure(q, c)

print(circuit)

job = qk.execute(circuit, simulator, shots=1000)
job2 = qk.execute(circuit2, simulator2, shots=1000)

# Grab results from the job
result = job.result()
result2 = job2.result()


counts = result.get_counts(circuit)
print("\nTotal for the 1 circuit:",counts)
counts2 = result2.get_counts(circuit2)
print("\nTotal for the 2 circuit:",counts2)

print (circuit)
circuit2.draw()
from qiskit.visualization import plot_histogram

simulator = qk.Aer.get_backend('statevector_simulator')
resul = qk.execute(circuit, backend = simulator).result()
statevector = resul.get_statevector()
plot_bloch_multivector(statevector)
