import qiskit as qk
from qiskit.visualization import plot_histogram

#Simulator
simulator = qk.Aer.get_backend('qasm_simulator')

# Creating Qubits
q = qk.QuantumRegister(3)

# Creating Classical Bits
c = qk.ClassicalRegister(3)

/#create circuits
circuit = qk.QuantumCircuit(q, c)

# Hadamard Gate on the first Qubit
circuit.h(q[0])
circuit.h(q[1])
circuit.h(q[2])

# Measuring the Qubits
circuit.measure(q, c)

# Execute the circuit on the qasm simulator
job = qk.execute(circuit, simulator, shots=1000)

# Grab results from the job
result = job.result()

# Returns counts
counts = result.get_counts(circuit)
print("\nTotal for the 1 circuit:",counts)

# Plot a histogram
#plot_histogram(counts)

#Draw circuits
circuit.draw()