%matplotlib inline
# Importing standard Qiskit libraries and configuring account
from qiskit import QuantumCircuit, execute, Aer, IBMQ, QuantumRegister, ClassicalRegister
from qiskit.compiler import transpile, assemble
from qiskit.tools.jupyter import *
from qiskit.visualization import *
from qiskit.quantum_info.operators import Operator

q = QuantumRegister(2)
qc = QuantumCircuit(q)
qc.h(q[0])
qc.cx(q[0], q[1])

q2 = QuantumRegister(2)
qc2 = QuantumCircuit(q2)
qc2.x(q2)
qc2.h(q2[0])
qc2.cx(q2[0], q2[1])
