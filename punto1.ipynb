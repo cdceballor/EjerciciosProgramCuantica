import qiskit as qk
from qiskit.visualization import plot_histogram
simulator = qk.Aer.get_backend('qasm_simulator')
simulator2 = qk.Aer.get_backend('qasm_simulator')

# Creating Qubits
q = qk.QuantumRegister(2)
s = qk.QuantumRegister(2)

# Creating Classical Bits
c = qk.ClassicalRegister(2)
d = qk.ClassicalRegister(2)

/#create circuits
circuit = qk.QuantumCircuit(q, c)
circuit2 = qk.QuantumCircuit(s, d)

# Hadamard Gate on the first Qubit
circuit.h(q[0])

# CNOT Gate on the first and second Qubits
circuit.cx(q[0], q[1])

# Measuring the Qubits
circuit.measure(q, c)
#------------------------------
circuit2.x(s[0])
circuit2.h(s[0])
circuit2.x(s[1])
circuit2.cx(s[0], s[1])
circuit2.measure(s, d)

# Execute the circuit on the qasm simulator
job = qk.execute(circuit, simulator, shots=1000)
job2 = qk.execute(circuit2, simulator2, shots=1000)

# Grab results from the job
result = job.result()
result2 = job2.result()

# Returns counts
counts = result.get_counts(circuit)
print("\nTotal for the 1 circuit:",counts)

counts2 = result2.get_counts(circuit2)
print("\nTotal for the 2 circuit:",counts2)
# Plot a histogram
#plot_histogram(counts)
#plot_histogram(counts2)

#Draw circuits
print (circuit)
circuit2.draw()
